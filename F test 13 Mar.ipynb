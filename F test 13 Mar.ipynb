{
 "cells": [
  {
   "cell_type": "markdown",
   "id": "313e92f2-b2d9-42db-8308-a8cbc3b4f496",
   "metadata": {},
   "source": [
    "## F test with python"
   ]
  },
  {
   "cell_type": "code",
   "execution_count": 1,
   "id": "cd496cda-0912-4e50-9c2e-de3cf8b47682",
   "metadata": {},
   "outputs": [],
   "source": [
    "## Avidance to say that the populationare not equal\n",
    "worker1=[18,19,22,25,27,28,41,45,51,55]\n",
    "worker2=[14,15,15,17,18,22,25,25,27,34]"
   ]
  },
  {
   "cell_type": "code",
   "execution_count": 2,
   "id": "6ec35267-2454-4a6e-b9a4-4ea4e9cccc96",
   "metadata": {},
   "outputs": [],
   "source": [
    "import numpy as np"
   ]
  },
  {
   "cell_type": "code",
   "execution_count": 5,
   "id": "5578edd4-f2a6-4de9-8386-dd9ec8b39cbe",
   "metadata": {},
   "outputs": [],
   "source": [
    "## calculating Ftest\n",
    "f_test=np.var(worker1)/np.var(worker2)"
   ]
  },
  {
   "cell_type": "code",
   "execution_count": 6,
   "id": "dab3b3b5-ee6a-4b45-b0bf-ef4901db609e",
   "metadata": {},
   "outputs": [
    {
     "data": {
      "text/plain": [
       "4.387122002085506"
      ]
     },
     "execution_count": 6,
     "metadata": {},
     "output_type": "execute_result"
    }
   ],
   "source": [
    "f_test"
   ]
  },
  {
   "cell_type": "code",
   "execution_count": 9,
   "id": "e31f60a5-0d5c-48ef-b022-5ac4715384c4",
   "metadata": {},
   "outputs": [],
   "source": [
    "## degree of freedom\n",
    "df1=len(worker1)-1\n",
    "df2=len(worker2)-1\n",
    "signifance_value=0.05"
   ]
  },
  {
   "cell_type": "code",
   "execution_count": 8,
   "id": "fe159e09-b94a-4e77-8af2-0309f66614a4",
   "metadata": {},
   "outputs": [],
   "source": [
    "import scipy.stats as stat"
   ]
  },
  {
   "cell_type": "code",
   "execution_count": 11,
   "id": "c13b10c7-eef2-4dcc-b20d-bc1843c453b1",
   "metadata": {},
   "outputs": [],
   "source": [
    "critical_value=stat.f.ppf(q=1-signifance_value,dfn=df1,dfd=df2)"
   ]
  },
  {
   "cell_type": "code",
   "execution_count": null,
   "id": "58a97a61-814b-48d4-b045-97b6e10216d1",
   "metadata": {},
   "outputs": [],
   "source": [
    "criti"
   ]
  }
 ],
 "metadata": {
  "kernelspec": {
   "display_name": "Python 3 (ipykernel)",
   "language": "python",
   "name": "python3"
  },
  "language_info": {
   "codemirror_mode": {
    "name": "ipython",
    "version": 3
   },
   "file_extension": ".py",
   "mimetype": "text/x-python",
   "name": "python",
   "nbconvert_exporter": "python",
   "pygments_lexer": "ipython3",
   "version": "3.10.8"
  }
 },
 "nbformat": 4,
 "nbformat_minor": 5
}
