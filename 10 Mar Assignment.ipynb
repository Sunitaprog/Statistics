{
 "cells": [
  {
   "cell_type": "markdown",
   "id": "8da0533c-08a7-4c89-a545-945ff1d1bc2c",
   "metadata": {},
   "source": [
    "## Q1: What is Estimation Statistics? Explain point estimate and interval estimate.\n",
    "\n",
    "Estimation statistics is a branch of statistics that involves using data from a sample to make inferences about the population. The goal of estimation is to provide information about population parameters, such as the mean or proportion, based on a sample of data.\n",
    "\n",
    "There are two main types of estimates: point estimates and interval estimates.\n",
    "\n",
    "1. Point Estimate: A point estimate is a single value that is used to estimate a population parameter. It is obtained by using a sample statistic, such as the sample mean or sample proportion, to estimate the corresponding population parameter.\n",
    "\n",
    "2. Interval Estimate: An interval estimate, also called a confidence interval, is a range of values that is likely to contain the true population parameter with a certain level of confidence. It is obtained by using a sample statistic, such as the sample mean or sample proportion, to calculate an interval of values that is likely to contain the true population parameter."
   ]
  },
  {
   "cell_type": "markdown",
   "id": "d703bb23-60bc-4847-b614-b5b32a4a2cb4",
   "metadata": {},
   "source": [
    "## Q2: Write a Python function to estimate the population mean using a sample mean and standard deviation."
   ]
  },
  {
   "cell_type": "code",
   "execution_count": 2,
   "id": "659c92ac-71ba-4a45-b85e-39b68319da7f",
   "metadata": {},
   "outputs": [
    {
     "name": "stdout",
     "output_type": "stream",
     "text": [
      "Population mean: 2.0\n"
     ]
    }
   ],
   "source": [
    "import math\n",
    "\n",
    "def population_mean(sample_mean, sample_std, sample_size):\n",
    "    std_error = sample_std / math.sqrt(sample_size)\n",
    "    z_value = 1.96 # assume a 95% confidence level and use the corresponding z-value\n",
    "    margin_of_error = z_value * std_error \n",
    "    lower_bound = sample_mean - margin_of_error \n",
    "    upper_bound = sample_mean + margin_of_error \n",
    "    return ((lower_bound + upper_bound) / 2)\n",
    "\n",
    "result = population_mean(2,5,20000)\n",
    "\n",
    "print(f\"Population mean: {result}\")"
   ]
  },
  {
   "cell_type": "markdown",
   "id": "ffe5cca5-1209-4714-b643-d18bd7070474",
   "metadata": {},
   "source": [
    "## Q3.What is Hypothesis testing? Why is it used? State the importance of Hypothesis testing.\n",
    "\n",
    "Hypothesis testing is a statistical method used to make decisions or draw conclusions about a population based on a sample of data. It involves comparing a hypothesis or claim about a population parameter (such as a mean or proportion) with the data from a sample, in order to determine if the hypothesis is likely to be true.\n",
    "\n",
    "Hypothesis testing is used to test the validity of a theory or claim.\n",
    "\n",
    "For example, in medical research, hypothesis testing can be used to determine if a new drug is effective in treating a disease by comparing its effects to a placebo. In business, hypothesis testing can be used to evaluate whether a new marketing strategy is effective in increasing sales.\n",
    "\n",
    "The importance of hypothesis testing lies in its ability to provide evidence for or against a theory or claim, and to help researchers make informed decisions based on data. It allows researchers to determine if an observed difference between groups or variables is statistically significant or simply due to chance, and to quantify the level of uncertainty in their findings. This can help researchers to draw conclusions that are based on evidence and minimize the risk of drawing incorrect or unsupported conclusions.\n",
    "\n",
    "\n",
    "## Q4: Create a hypothesis that states whether the average weight of male college students is greater than the average weight of female college students.\n",
    "\n",
    "The null hypothesis would be:\n",
    "\n",
    "    H0: The average weight of male college students is not greater than the average weight of female college students.\n",
    "\n",
    "The alternative hypothesis would be:\n",
    "\n",
    "    H1: The average weight of male college students is greater than the average weight of female college students.\n",
    "\n",
    "## Q5: Write a Python script to conduct a hypothesis test on the difference between two population means, given a sample from each population."
   ]
  },
  {
   "cell_type": "code",
   "execution_count": 3,
   "id": "72df06a2-3d57-41c7-a7de-35048387486d",
   "metadata": {},
   "outputs": [
    {
     "name": "stdout",
     "output_type": "stream",
     "text": [
      "t-statistic:  -7.802541962319494\n",
      "p-value:  3.4176840983499634e-13\n",
      "Reject null hypothesis\n"
     ]
    }
   ],
   "source": [
    "import numpy as np\n",
    "from scipy.stats import ttest_ind\n",
    "\n",
    "# create two random samples\n",
    "sample1 = np.random.normal(10, 2, 100)\n",
    "sample2 = np.random.normal(12, 2, 100)\n",
    "\n",
    "# conduct t-test\n",
    "t_stat, p_val = ttest_ind(sample1, sample2)\n",
    "\n",
    "# print results\n",
    "print(\"t-statistic: \", t_stat)\n",
    "print(\"p-value: \", p_val)\n",
    "\n",
    "# check if p-value is significant at 5% level\n",
    "if p_val < 0.05:\n",
    "    print(\"Reject null hypothesis\")\n",
    "else:\n",
    "    print(\"Fail to reject null hypothesis\")"
   ]
  },
  {
   "cell_type": "markdown",
   "id": "a922d80e-9c9a-4b45-b45a-0ec81a622e2b",
   "metadata": {},
   "source": [
    "## Q6: What is a null and alternative hypothesis? Give some examples.\n",
    "\n",
    "\n",
    "The null hypothesis (H0) states that there is no significant difference between two populations or variables. It is often the default or conventional position and is tested against the alternative hypothesis. In other words, it is the claim that researchers aim to reject or fail to reject based on the evidence from the data.\n",
    "\n",
    "The alternative hypothesis (H1) is the complement of the null hypothesis and states that there is a significant difference between two populations or variables. It represents the claim that researchers seek to support or prove based on the evidence from the data.\n",
    "\n",
    "Examples:\n",
    "\n",
    "1. Null hypothesis: The average IQ scores of two groups of students are equal.\n",
    " Alternative hypothesis: The average IQ score of one group of students is significantly different from the other group.\n",
    "\n",
    "2. Null hypothesis: The new drug has no effect on curing a disease.\n",
    " Alternative hypothesis: The new drug is significantly more effective in curing the disease than the current drug."
   ]
  },
  {
   "cell_type": "markdown",
   "id": "f577b742-679a-4c66-85b8-ca3cd970a29f",
   "metadata": {},
   "source": [
    "## Q7:Write down the steps involved in hypothesis testing.\n",
    "\n",
    "The general steps involved in hypothesis testing are:\n",
    "\n",
    "1. State the null and alternative hypotheses: Identify the research question and define the null and alternative hypotheses that represent the possible outcomes.\n",
    "2. Determine the test statistic: Choose an appropriate statistical test (e.g., t-test, ANOVA, chi-square) based on the research question and data type, and calculate the test statistic using the sample data.\n",
    "3. Set the significance level: Determine the level of significance (alpha) to use for the test. This is the probability of rejecting the null hypothesis when it is true and is typically set at 0.05.\n",
    "4. Calculate the p-value: Calculate the probability of observing the test statistic or a more extreme value under the null hypothesis.\n",
    "5. Make a decision: Compare the p-value to the significance level and make a decision whether to reject or fail to reject the null hypothesis. If the p-value is less than or equal to the significance level, reject the null hypothesis; otherwise, fail to reject the null hypothesis."
   ]
  },
  {
   "cell_type": "markdown",
   "id": "5510c34e-510d-4ba8-927e-7e270634a47f",
   "metadata": {},
   "source": [
    "## Q8: Define p-value and explain its significance in hypothesis testing.\n",
    "\n",
    "The p-value in hypothesis testing is the probability of observing a test statistic or a more extreme value, given that the null hypothesis is true. In other words, it is the probability of obtaining the observed data or more extreme data if the null hypothesis is true.\n",
    "The p-value provides a measure of the strength of evidence against the null hypothesis. A small p-value indicates strong evidence against the null hypothesis, while a large p-value indicates weak evidence against the null hypothesis.\n",
    "\n",
    "The p-value is a key component of hypothesis testing because it helps researchers make decisions about the null hypothesis. If the p-value is small (e.g., less than or equal to the significance level), it suggests that the observed data is unlikely to have occurred by chance under the null hypothesis, and the null hypothesis is rejected. If the p-value is large (e.g., greater than the significance level), it suggests that the observed data is consistent with the null hypothesis, and the null hypothesis is not rejected.\n",
    "\n",
    "## Q9: Generate a Student's t-distribution plot using Python's matplotlib library, with the degrees of freedom parameter set to 10."
   ]
  },
  {
   "cell_type": "code",
   "execution_count": 5,
   "id": "46bfa9c8-ecd0-4b63-b7c8-3416e53b419c",
   "metadata": {},
   "outputs": [
    {
     "data": {
      "text/plain": [
       "(array([1.55650703e-04, 3.11301406e-04, 7.78253516e-04, 1.24520563e-03,\n",
       "        3.57996617e-03, 1.08955492e-02, 3.23753463e-02, 9.41686754e-02,\n",
       "        2.18066635e-01, 3.57840967e-01, 3.70137372e-01, 2.63049688e-01,\n",
       "        1.30279639e-01, 4.57613067e-02, 1.77441802e-02, 6.53732953e-03,\n",
       "        2.33476055e-03, 7.78253516e-04, 1.55650703e-04, 3.11301406e-04]),\n",
       " array([-6.55386326, -5.91139909, -5.26893491, -4.62647074, -3.98400657,\n",
       "        -3.3415424 , -2.69907823, -2.05661406, -1.41414989, -0.77168572,\n",
       "        -0.12922154,  0.51324263,  1.1557068 ,  1.79817097,  2.44063514,\n",
       "         3.08309931,  3.72556348,  4.36802765,  5.01049183,  5.652956  ,\n",
       "         6.29542017]),\n",
       " <BarContainer object of 20 artists>)"
      ]
     },
     "execution_count": 5,
     "metadata": {},
     "output_type": "execute_result"
    },
    {
     "data": {
      "image/png": "[encoded data removed]",
      "text/plain": [
       "<Figure size 640x480 with 1 Axes>"
      ]
     },
     "metadata": {},
     "output_type": "display_data"
    }
   ],
   "source": [
    "from scipy.stats import t\n",
    "import matplotlib.pyplot as plt\n",
    "\n",
    "#generate t distribution with sample size 10000\n",
    "x = t.rvs(df=10, size=10000)\n",
    "\n",
    "plt.hist(x, density=True, edgecolor='black', bins=20)"
   ]
  },
  {
   "cell_type": "markdown",
   "id": "140b05e0-4845-4221-98bc-1ffd1d7c989b",
   "metadata": {},
   "source": [
    "## Q10: Write a Python program to calculate the two-sample t-test for independent samples, given two random samples of equal size and a null hypothesis that the population means are equal."
   ]
  },
  {
   "cell_type": "code",
   "execution_count": 7,
   "id": "e16b9fc8-0b5e-4495-b51a-55fb7c7c61eb",
   "metadata": {},
   "outputs": [
    {
     "name": "stdout",
     "output_type": "stream",
     "text": [
      "t-test statistic: -5.723074119276876\n",
      "p-value: 3.8273317942992476e-08\n",
      "Reject the null hypothesis\n"
     ]
    }
   ],
   "source": [
    "import numpy as np\n",
    "from scipy.stats import ttest_ind\n",
    "\n",
    "sample1 = np.random.normal(10, 2, 100)\n",
    "sample2 = np.random.normal(12, 2, 100)\n",
    "\n",
    "#calculate the t-test statistic and p-value\n",
    "t_statistic, p_value = ttest_ind(sample1, sample2)\n",
    "\n",
    "print(\"t-test statistic:\", t_statistic)\n",
    "print(\"p-value:\", p_value)\n",
    "\n",
    "#compare the p-value to the significance level\n",
    "alpha = 0.05\n",
    "if p_value < alpha:\n",
    "    print(\"Reject the null hypothesis\")\n",
    "else:\n",
    "    print(\"Fail to reject the null hypothesis\")\n"
   ]
  },
  {
   "cell_type": "markdown",
   "id": "200ae29c-5561-40ef-8396-ac448cf88b09",
   "metadata": {},
   "source": [
    "## Q11: What is Student’s t distribution? When to use the t-Distribution.\n",
    "\n",
    "Student's t distribution is a probability distribution that is used in hypothesis testing when the sample size is small and the population standard deviation is unknown.\n",
    "It is similar to the standard normal distribution (z-distribution), but has heavier tails, which means it has more probability in the tails and less in the center compared to the standard normal distribution. The shape of the t-distribution depends on the sample size, with smaller sample sizes resulting in a more spread-out distribution.\n",
    "\n",
    "The t-distribution is used in situations where the population standard deviation is unknown and must be estimated from the sample data.\n",
    "It is also used when the sample size is small (typically less than 30) and the population is normally distributed. The t-distribution allows for greater uncertainty in the estimate of the population standard deviation due to the smaller sample size.\n",
    "\n",
    "## Q12: What is t-statistic? State the formula for t-statistic.\n",
    "\n",
    "Answer:\n",
    "The t-statistic is a measure of how many standard errors the sample mean is from the hypothesized population mean, under the assumption that the population variance is unknown and must be estimated from the sample data. It is used in hypothesis testing to determine whether the difference between the sample mean and the hypothesized population mean is statistically significant.\n",
    "\n",
    "The formula for the t-statistic is:\n",
    "t = (x̄ - μ) / (s / √n)\n",
    "\n",
    "where\n",
    "x̄ is the sample mean\n",
    "\n",
    "μ is the hypothesized population mean\n",
    "\n",
    "s is the sample standard deviation\n",
    "\n",
    "n is the sample size\n",
    "\n",
    "√n is the square root of the sample size\n",
    "\n",
    "\n",
    "## Q13: A coffee shop owner wants to estimate the average daily revenue for their shop. They take a random sample of 50 days and find the sample mean revenue to be 500 dollars with a standard deviation of 50 dollars. Estimate the population mean revenue with a 95% confidence interval.\n",
    "\n",
    "To estimate the population mean revenue with a 95% confidence interval, we can use the following formula:\n",
    "\n",
    "    Confidence Interval = sample mean ± margin of error\n",
    "\n",
    "where the margin of error is given by:\n",
    "\n",
    "    Margin of Error = critical value * standard error\n",
    "\n",
    "The standard error is the standard deviation of the sample divided by the square root of the sample size:\n",
    "\n",
    "    Standard Error = standard deviation / sqrt(sample size)\n",
    "\n",
    "Substituting the values given in the problem statement, we get:\n",
    "\n",
    "    Standard Error = 50 / sqrt(50) = 7.07\n",
    "    Margin of Error = 1.96 * 7.07 = 13.85\n",
    "\n",
    "Therefore, the 95% confidence interval for the population mean revenue is:\n",
    "\n",
    "    500 ± 13.85, or (486.15, 513.85)\n",
    "\n",
    "We can be 95% confident that the true population mean revenue falls within this interval."
   ]
  },
  {
   "attachments": {
    "51dcaf73-97e3-40c9-91a3-98756ca73e67.png": {
     "image/png": "[encoded data removed]"
    }
   },
   "cell_type": "markdown",
   "id": "9c05b207-f973-427d-875a-2e933696f77c",
   "metadata": {},
   "source": [
    "## Q14: A researcher hypothesizes that a new drug will decrease blood pressure by 10 mmHg. They conduct a clinical trial with 100 patients and find that the sample mean decrease in blood pressure is 8 mmHg with a standard deviation of 3 mmHg. Test the hypothesis with a significance level of 0.05.\n",
    "\n",
    "The following values are given in the question:\n",
    "\n",
    "    Population Mean = 10\n",
    "    Sample Size = n = 100\n",
    "    Sample Mean = 8\n",
    "    Standard Deviation = 3\n",
    "    Significance Level = 0.05\n",
    "    Confidence Interval = 0.95\n",
    "\n",
    "My null and alternate hypothesis are as follows:\n",
    "\n",
    "    Null Hypothesis = H0 => Population Mean = 10\n",
    "    Alternate Hypothesis = H1 => Population Mean != 10\n",
    "\n",
    "From utilizing z-table i obgtained values for z-score:\n",
    "\n",
    "    z-score = ± 1.96\n",
    "\n",
    "Then I utilized the follwing z-test formula:\n",
    "\n",
    "![download.png](attachment:51dcaf73-97e3-40c9-91a3-98756ca73e67.png)\n",
    "\n",
    "\n",
    "I got the following value:\n",
    "\n",
    "-0.66"
   ]
  },
  {
   "attachments": {
    "f4b4e688-3928-4ec8-9d77-f7acdbb156f9.png": {
     "image/png": "[encoded data removed]"
    }
   },
   "cell_type": "markdown",
   "id": "86c8fb76-e65e-4592-aa94-a5086e041a4a",
   "metadata": {},
   "source": [
    "## Q15: An electronics company produces a certain type of product with a mean weight of 5 pounds and a standard deviation of 0.5 pounds. A random sample of 25 products is taken, and the sample mean weight is found to be 4.8 pounds. Test the hypothesis that the true mean weight of the products is less than 5 pounds with a significance level of 0.01.\n",
    "\n",
    "The following values are given in the question:\n",
    "\n",
    "    Population Mean = 5\n",
    "    Sample Size = n = 25\n",
    "    Sample Mean = 4.8\n",
    "    Standard Deviation = 0.5\n",
    "    Significance Level = 0.01\n",
    "    Confidence Interval = 0.99\n",
    "\n",
    "My null and alternate hypothesis are as follows:\n",
    "\n",
    "Null Hypothesis = H0 => Population Mean = 5\n",
    "Alternate Hypothesis = H1 => Population Mean < 5\n",
    "\n",
    "Then I utilized the follwing z-test formula:\n",
    "\n",
    "\n",
    "\n",
    "![download.png](attachment:f4b4e688-3928-4ec8-9d77-f7acdbb156f9.png)\n",
    "\n",
    "\n",
    "\n",
    "\n",
    "I got the following value:\n",
    "   -2\n",
    "\n",
    "\n",
    "From utilizing z-table i obgtained values for z-score of -2:\n",
    "\n",
    "    z-score = 0.02275\n",
    "\n",
    "Which also becomes my p-value:\n",
    "\n",
    "    p-value = 0.02275\n",
    "\n",
    "Then i checked whether p-value < significance value\n",
    "\n",
    "    0.02775 < 0.01\n",
    "    False\n",
    "\n",
    "So my final conclusion was:\n",
    "\n",
    "    Failed to reject null hypothesis"
   ]
  },
  {
   "attachments": {
    "9fe1dc55-f8f4-4fcf-94a0-1b5f819ab839.png": {
     "image/png": "[encoded data removed]"
    }
   },
   "cell_type": "markdown",
   "id": "561c12b8-e918-42bf-a22e-466966cf241d",
   "metadata": {},
   "source": [
    "## Q16: Two groups of students are given different study materials to prepare for a test. The first group (n1 = 30) has a mean score of 80 with a standard deviation of 10, and the second group (n2 = 40) has a mean score of 75 with a standard deviation of 8. Test the hypothesis that the population means for the two groups are equal with a significance level of 0.01.\n",
    "\n",
    "My null and alternate hypothesis are as follows:\n",
    "\n",
    "    Null Hypothesis = H0 => Population Mean of Group 1 = Population Mean of Group 2\n",
    "    Alternate Hypothesis = H1 => Population Mean of Group 1 != Population Mean of Group 2\n",
    "\n",
    "Then I utilized the follwing two sample T-test formula:\n",
    "\n",
    "![download.png](attachment:9fe1dc55-f8f4-4fcf-94a0-1b5f819ab839.png)\n",
    "\n",
    "\n",
    "\n",
    "\n",
    "I got the value of t as:\n",
    "\n",
    "    t = 2.37\n",
    "\n",
    "Then I utilized t-table to look for the value of t for the following parameters:\n",
    "\n",
    "    Degrees of Freedom = 68\n",
    "    Significance Value = 0.01\n",
    "\n",
    "I got the following value of t fromt the table:\n",
    "\n",
    "    t = ± 2.638\n",
    "\n",
    "Since 2.37 lies in the region ±2.638 so, the final conclusion was:\n",
    "\n",
    "    Failed to reject null hypothesis\n",
    "    Population mean for two groups are equal"
   ]
  },
  {
   "cell_type": "markdown",
   "id": "ca75f36f-714c-4025-aadb-6ad9ee897cad",
   "metadata": {},
   "source": [
    "## Q17: A marketing company wants to estimate the average number of ads watched by viewers during a TV program. They take a random sample of 50 viewers and find that the sample mean is 4 with a standard deviation of 1.5. Estimate the population mean with a 99% confidence interval.\n",
    "\n",
    "To estimate the population mean with a 99% confidence interval, we can use the following formula:\n",
    "\n",
    "    CI = X̄ ± z*(σ/√n)\n",
    "\n",
    "Where:\n",
    "\n",
    "    X̄ = sample mean (4)\n",
    "    z = z-score corresponding to the confidence level (99%)\n",
    "    σ = population standard deviation (1.5)\n",
    "    n = sample size (50)\n",
    "\n",
    "\n",
    "To find the z-score, we can use a standard normal distribution table. For a 99% confidence level, the z-score is\n",
    "\n",
    "    z-score = 2.576.\n",
    "\n",
    "Plugging in the values, we get:\n",
    "\n",
    "    CI = 4 ± 2.576*(1.5/√50)\n",
    "    CI = 4 ± 0.665\n",
    "\n",
    "Therefore, the 99% confidence interval for the population mean of the number of ads watched by viewers during a TV program is (3.335, 4.665). We are 99% confident that the true population mean falls within this interval."
   ]
  },
  {
   "cell_type": "code",
   "execution_count": null,
   "id": "77a446e0-1832-455b-b824-6b51b90f79a2",
   "metadata": {},
   "outputs": [],
   "source": []
  },
  {
   "cell_type": "code",
   "execution_count": null,
   "id": "52881b2f-9c23-4f26-9914-4d23dc8cd132",
   "metadata": {},
   "outputs": [],
   "source": []
  }
 ],
 "metadata": {
  "kernelspec": {
   "display_name": "Python 3 (ipykernel)",
   "language": "python",
   "name": "python3"
  },
  "language_info": {
   "codemirror_mode": {
    "name": "ipython",
    "version": 3
   },
   "file_extension": ".py",
   "mimetype": "text/x-python",
   "name": "python",
   "nbconvert_exporter": "python",
   "pygments_lexer": "ipython3",
   "version": "3.10.8"
  }
 },
 "nbformat": 4,
 "nbformat_minor": 5
}
